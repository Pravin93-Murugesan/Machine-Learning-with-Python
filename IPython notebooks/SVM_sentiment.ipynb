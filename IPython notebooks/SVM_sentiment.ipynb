{
  "cells": [
    {
      "metadata": {},
      "cell_type": "markdown",
      "source": "# Sentiment analysis with support vector machines\n\nIn this notebook, we will revisit a learning task that was done earlier: predicting the *sentiment* (positive or negative) of a single sentence taken from a review of a movie, restaurant, or product. The data set consists of 3000 labeled sentences, which we divide into a training set of size 2400 and a test set of size 600. Previously, we used a logistic regression classifier. Now, a support vector machine algorithm is used."
    },
    {
      "metadata": {},
      "cell_type": "markdown",
      "source": "## Loading and preprocessing the data"
    },
    {
      "metadata": {
        "trusted": true
      },
      "cell_type": "code",
      "source": "%matplotlib inline\nimport string\nimport numpy as np\nimport matplotlib\nimport matplotlib.pyplot as plt\n\nfrom sklearn.model_selection import train_test_split\nfrom sklearn.metrics import accuracy_score\n\nmatplotlib.rc('xtick', labelsize=14) \nmatplotlib.rc('ytick', labelsize=14)",
      "execution_count": 8,
      "outputs": []
    },
    {
      "metadata": {
        "trusted": true
      },
      "cell_type": "code",
      "source": "from sklearn.feature_extraction.text import CountVectorizer\n\n## Read in the data set.\nwith open(\"full_set.txt\") as f:\n    content = f.readlines()\n    \n## Remove leading and trailing white space\ncontent = [x.strip() for x in content]\n\n## Separate the sentences from the labels\nsentences = [x.split(\"\\t\")[0] for x in content]\nlabels = [x.split(\"\\t\")[1] for x in content]\n\n## Transform the labels from '0 v.s. 1' to '-1 v.s. 1'\ny = np.array(labels, dtype='int8')\ny = 2*y - 1\n\n## full_remove takes a string x and a list of characters removal_list \n## returns x with all the characters in removal_list replaced by ' '\ndef full_remove(x, removal_list):\n    for w in removal_list:\n        x = x.replace(w, ' ')\n    return x\n\n## Remove digits\ndigits = [str(x) for x in range(10)]\ndigit_less = [full_remove(x, digits) for x in sentences]\n\n## Remove punctuation\npunc_less = [full_remove(x, list(string.punctuation)) for x in digit_less]\n\n## Make everything lower-case\nsents_lower = [x.lower() for x in punc_less]\n\n## Define our stop words\nstop_set = set(['the', 'a', 'an', 'i', 'he', 'she', 'they', 'to', 'of', 'it', 'from'])\n\n## Remove stop words\nsents_split = [x.split() for x in sents_lower]\nsents_processed = [\" \".join(list(filter(lambda a: a not in stop_set, x))) for x in sents_split]\n\n## Transform to bag of words representation.\nvectorizer = CountVectorizer(analyzer = \"word\", tokenizer = None, preprocessor = None, stop_words = None, max_features = 4500)\ndata_features = vectorizer.fit_transform(sents_processed)\n\ndata_mat = data_features.toarray()",
      "execution_count": 9,
      "outputs": []
    },
    {
      "metadata": {
        "trusted": true
      },
      "cell_type": "code",
      "source": "# Split the data into 80% training data and 20% test data\ntrain_data, test_data, train_labels, test_labels = train_test_split(data_mat, y, test_size=0.20)\n\nprint(\"train data: \", train_data.shape)\nprint(\"test data: \", test_data.shape)",
      "execution_count": 14,
      "outputs": [
        {
          "output_type": "stream",
          "text": "('train data: ', (2400, 4500))\n('test data: ', (600, 4500))\n",
          "name": "stdout"
        }
      ]
    },
    {
      "metadata": {},
      "cell_type": "markdown",
      "source": "## Fitting a support vector machine to the data\n\nIn support vector machines, we are given a set of examples $(x_1, y_1), \\ldots, (x_n, y_n)$ and we want to find a weight vector $w \\in \\mathbb{R}^d$ that solves the following optimization problem:\n\n$$ \\min_{w \\in \\mathbb{R}^d} \\| w \\|^2 + C \\sum_{i=1}^n \\xi_i $$\n$$ \\text{subject to } y_i \\langle w, x_i \\rangle \\geq 1 - \\xi_i \\text{ for all } i=1,\\ldots, n$$\n\n`scikit-learn` provides an SVM solver that we will use. The following routine takes as input the constant `C` (from the above optimization problem) and returns the training and test error of the resulting SVM model. It is invoked as follows:\n\n* `training_error, test_error = fit_classifier(C)`\n\nThe default value for parameter `C` is 1.0."
    },
    {
      "metadata": {
        "trusted": true
      },
      "cell_type": "code",
      "source": "from sklearn import svm\ndef fit_classifier(C_value=1.0):\n    clf = svm.LinearSVC(C=C_value, loss='hinge')\n    clf.fit(train_data,train_labels)\n    \n    ## Get predictions on training data\n    train_preds = clf.predict(train_data)\n    train_error = float(np.sum((train_preds > 0.0) != (train_labels > 0.0)))/len(train_labels)\n    \n    ## Get predictions on test data\n    test_preds = clf.predict(test_data)\n    test_error = float(np.sum((test_preds > 0.0) != (test_labels > 0.0)))/len(test_labels)\n    ##\n    return train_error, test_error",
      "execution_count": 15,
      "outputs": []
    },
    {
      "metadata": {
        "trusted": true
      },
      "cell_type": "code",
      "source": "cvals = [0.01, 0.1, 1.0, 10.0, 100.0, 1000.0, 10000.0]\nfor c in cvals:\n    train_error, test_error = fit_classifier(c)\n    print (\"Error rate for C = %0.2f: train - %0.3f & test - %0.3f\" % (c, train_error, test_error))",
      "execution_count": 17,
      "outputs": [
        {
          "output_type": "stream",
          "text": "Error rate for C = 0.01: train - 0.213 & test - 0.272\nError rate for C = 0.10: train - 0.063 & test - 0.187\nError rate for C = 1.00: train - 0.013 & test - 0.202\nError rate for C = 10.00: train - 0.001 & test - 0.202\nError rate for C = 100.00: train - 0.002 & test - 0.232\nError rate for C = 1000.00: train - 0.005 & test - 0.243\nError rate for C = 10000.00: train - 0.002 & test - 0.235\n",
          "name": "stdout"
        }
      ]
    },
    {
      "metadata": {},
      "cell_type": "markdown",
      "source": "## Evaluating C by k-fold cross-validation\n\nAs we can see, the choice of `C` has a very significant effect on the performance of the SVM classifier. We were able to assess this because we have a separate test set. In general, however, this is a luxury we won't possess. There is a method to choose `C` based only on the training set.\n\nA reasonable way to estimate the error associated with a specific value of `C` is by **`k-fold cross validation`**:\n* Partition the training set `S` into `k` equal-sized sized subsets `S_1, S_2, ..., S_k`.\n* For `i=1,2,...,k`, train a classifier with parameter `C` on `S - S_i` (all the training data except `S_i`) and test it on `S_i` to get error estimate `e_i`.\n* Average the errors: `(e_1 + ... + e_k)/k`\n\nThe following procedure, **cross_validation_error**, does exactly this. It takes as input:\n* the training set `x,y`\n* the value of `C` to be evaluated\n* the integer `k`\n\nand it returns the estimated error of the classifier for that particular setting of `C`. "
    },
    {
      "metadata": {
        "trusted": true
      },
      "cell_type": "code",
      "source": "def cross_validation_error(x,y,C_value,k):\n    n = len(y)\n    ## Randomly shuffle indices\n    indices = np.random.permutation(n)\n    \n    ## Initialize error\n    err = 0.0\n    \n    ## Iterate over partitions\n    for i in range(k):\n        ## Partition indices\n        test_indices = indices[int(i*(n/k)):int((i+1)*(n/k) - 1)]\n        train_indices = np.setdiff1d(indices, test_indices)\n        \n        ## Train classifier with parameter c\n        clf = svm.LinearSVC(C=C_value, loss='hinge')\n        clf.fit(x[train_indices], y[train_indices])\n        \n        ## Get predictions on test partition\n        preds = clf.predict(x[test_indices])\n        \n        ## Compute error\n        err += float(np.sum((preds > 0.0) != (y[test_indices] > 0.0)))/len(test_indices)\n        \n    return err/k",
      "execution_count": 18,
      "outputs": []
    },
    {
      "metadata": {},
      "cell_type": "markdown",
      "source": "## Picking a value of C"
    },
    {
      "metadata": {},
      "cell_type": "markdown",
      "source": "The procedure **cross_validation_error** (above) evaluates a single candidate value of `C`. We need to use it repeatedly to identify a good `C`. \n\nThe below function will choose the appropriate `C`. It will be invoked as follows:\n\n* `c, err = choose_parameter(x,y,k)`\n\nwhere\n* `x,y` is the training data\n* `k` is the number of folds of cross-validation\n* `c` is chosen value of the parameter `C`\n* `err` is the cross-validation error estimate at `c`\n\nIn addition to returning a specific value of `C`, the function also **plots** the cross-validation errors for all the values of `C` it tried out (using a log-scale for the `C`-axis)."
    },
    {
      "metadata": {
        "trusted": true
      },
      "cell_type": "code",
      "source": "def choose_parameter(x,y,k):\n    cvals = [0.01, 0.1, 1.0, 10.0, 100.0, 1000.0, 10000.0]\n    error = np.zeros(len(cvals))\n    i = 0\n    for c in cvals:\n        error[i] = cross_validation_error(x,y,c,k)\n        i = i + 1  \n    ind = int(np.where(error == min(error))[0])\n    \n    plt.ylim(0.16,0.30)\n    plt.plot(cvals, error, linestyle='--', marker='D')\n    plt.xscale('log')\n    plt.xlabel(\"C\", fontsize=18)\n    plt.ylabel(\"Error\", fontsize=18)\n    plt.show()\n    \n    return cvals[ind], error[ind]",
      "execution_count": 72,
      "outputs": []
    },
    {
      "metadata": {},
      "cell_type": "markdown",
      "source": "Now let's try out the routine!"
    },
    {
      "metadata": {
        "trusted": true
      },
      "cell_type": "code",
      "source": "c, err = choose_parameter(train_data, train_labels, 10)\nprint(\"Choice of C: \", c)\nprint(\"Cross-validation error estimate: \", err)\n\n## Train it and test it\nclf = svm.LinearSVC(C=c, loss='hinge')\nclf.fit(train_data, train_labels)\npreds = clf.predict(test_data)\n\nerror = float(np.sum((preds > 0.0) != (test_labels > 0.0)))/len(test_labels)\nprint(\"Test error: \", error)",
      "execution_count": 74,
      "outputs": [
        {
          "output_type": "display_data",
          "data": {
            "image/png": "[encoded data removed]",
            "text/plain": "<Figure size 432x288 with 1 Axes>"
          },
          "metadata": {
            "needs_background": "light"
          }
        },
        {
          "output_type": "stream",
          "text": "('Choice of C: ', 1.0)\n('Cross-validation error estimate: ', 0.17531380753138076)\n('Test error: ', 0.20166666666666666)\n",
          "name": "stdout"
        }
      ]
    },
    {
      "metadata": {},
      "cell_type": "markdown",
      "source": "From the plot of cross-validation error for different `C`, we notice there is clearly a trough in which the returned value of `C` falls. Hence, the plot provides some reassurance that the choice of `C` from the routine ``choose_parameter(x,y,k)`` is reasonable."
    }
  ],
  "metadata": {
    "anaconda-cloud": {},
    "kernelspec": {
      "name": "python2",
      "display_name": "Python 2",
      "language": "python"
    },
    "language_info": {
      "mimetype": "text/x-python",
      "nbconvert_exporter": "python",
      "name": "python",
      "pygments_lexer": "ipython2",
      "version": "2.7.15",
      "file_extension": ".py",
      "codemirror_mode": {
        "version": 2,
        "name": "ipython"
      }
    },
    "toc": {
      "colors": {
        "hover_highlight": "#DAA520",
        "navigate_num": "#000000",
        "navigate_text": "#333333",
        "running_highlight": "#FF0000",
        "selected_highlight": "#FFD700",
        "sidebar_border": "#EEEEEE",
        "wrapper_background": "#FFFFFF"
      },
      "moveMenuLeft": true,
      "nav_menu": {
        "height": "12px",
        "width": "252px"
      },
      "navigate_menu": true,
      "number_sections": false,
      "sideBar": false,
      "threshold": 4,
      "toc_cell": false,
      "toc_position": {
        "height": "344px",
        "left": "1px",
        "right": "20px",
        "top": "106px",
        "width": "212px"
      },
      "toc_section_display": "block",
      "toc_window_display": false,
      "widenNotebook": false
    }
  },
  "nbformat": 4,
  "nbformat_minor": 1
}