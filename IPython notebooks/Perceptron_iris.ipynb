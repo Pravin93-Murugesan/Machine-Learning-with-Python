{
  "cells": [
    {
      "metadata": {},
      "cell_type": "markdown",
      "source": "# The Perceptron algorithm at work"
    },
    {
      "metadata": {},
      "cell_type": "markdown",
      "source": "## Example 1 (Manual work):\nIn this notebook, we will look in detail at the Perceptron algorithm for learning a linear classifier in the case of binary labels."
    },
    {
      "metadata": {},
      "cell_type": "markdown",
      "source": "## The algorithm"
    },
    {
      "metadata": {},
      "cell_type": "markdown",
      "source": "This first procedure, **evaluate_classifier**, takes as input the parameters of a linear classifier (`w,b`) as well as a data point (`x`) and returns the prediction of that classifier at `x`.\n\nThe prediction is:\n* `1`  if `w.x+b > 0`\n* `0`  if `w.x+b = 0`\n* `-1` if `w.x+b < -1`"
    },
    {
      "metadata": {
        "trusted": true
      },
      "cell_type": "code",
      "source": "def evaluate_classifier(w,b,x):\n    if (np.dot(w,x) + b) > 0:\n        return 1\n    if (np.dot(w,x) + b) <= 0:\n        return -1\n    return 0",
      "execution_count": 1,
      "outputs": []
    },
    {
      "metadata": {},
      "cell_type": "markdown",
      "source": "Here is the Perceptron training procedure. It is invoked as follows:\n* `w,b,converged = train_perceptron(x,y,n_iters)`\n\nwhere\n* `x`: n-by-d numpy array with n data points, each d-dimensional\n* `y`: n-dimensional numpy array with the labels (each 1 or -1)\n* `n_iters`: the training procedure will run through the data at most this many times (default: 100)\n* `w,b`: parameters for the final linear classifier\n* `converged`: flag (True/False) indicating whether the algorithm converged within the prescribed number of iterations\n\nIf the data is not linearly separable, then the training procedure will not converge."
    },
    {
      "metadata": {
        "trusted": true
      },
      "cell_type": "code",
      "source": "def train_perceptron(x,y,n_iters=100):\n    n,d = x.shape\n    w = np.zeros((d,))\n    b = 0\n    done = False\n    converged = True\n    iters = 0\n    np.random.seed(None)\n    \n    while not(done):\n        done = True # when no point is misclassified, exits the while loop\n        I = np.random.permutation(n)\n        for i in range(n): # runs through the entire dataset\n            j = I[i]\n            if (evaluate_classifier(w,b,x[j,:]) != y[j]):\n                w = w + y[j] * x[j,:]\n                b = b + y[j]\n                done = False # when a point is misclassified, stays in the while loop after incrementing 'iters'\n                \n        iters = iters + 1 # increments each time (w,b) gets updated\n        if iters > n_iters:\n            done = True\n            converged = False\n            \n    if converged:\n        print \"Perceptron algorithm: iterations until convergence: \", iters\n    else:\n        print \"Perceptron algorithm: did not converge within the specified number of iterations\"\n    return w, b, converged",
      "execution_count": 2,
      "outputs": []
    },
    {
      "metadata": {},
      "cell_type": "markdown",
      "source": "## Experiments with the Perceptron"
    },
    {
      "metadata": {},
      "cell_type": "markdown",
      "source": "We start with standard includes."
    },
    {
      "metadata": {
        "trusted": true
      },
      "cell_type": "code",
      "source": "%matplotlib inline\nimport numpy as np\nimport matplotlib\nimport matplotlib.pyplot as plt\nmatplotlib.rc('xtick', labelsize=14) \nmatplotlib.rc('ytick', labelsize=14)",
      "execution_count": 3,
      "outputs": []
    },
    {
      "metadata": {},
      "cell_type": "markdown",
      "source": "The directory containing this notebook should also contain the two-dimensional data files, `data_1.txt` and `data_2.txt`. These files contain one data point per line, along with a label, like:\n* `3 8 1` (meaning that point `x=(3,8)` has label `y=1`)\n\nThe next procedure, **run_perceptron**, loads one of these data sets, learns a linear classifier using the Perceptron algorithm, and then displays the data as well as the boundary."
    },
    {
      "metadata": {
        "trusted": true
      },
      "cell_type": "code",
      "source": "# Look at Sebastian Raschka - Python Machine Learning, page 31 for reference\ndef run_perceptron(datafile):\n    data = np.loadtxt(datafile)\n    n,d = data.shape\n    # Create training set x and labels y\n    x = data[:,0:2]\n    y = data[:,2]\n    # Run the Perceptron algorithm for at most 100 iterations\n    w,b,converged = train_perceptron(x,y,100)\n    \n    # Determine the min/max values of features (x1 and x2) for the plot\n    # And use those feature vectors to create a pair of grid arrays xx1 and xx2 below\n    x1min = min(x[:,0]) - 1\n    x1max = max(x[:,0]) + 1\n    x2min = min(x[:,1]) - 1\n    x2max = max(x[:,1]) + 1\n    \n    plt.xlim(x1min,x1max)\n    plt.ylim(x2min,x2max)\n    \n    # Plot the data points\n    plt.plot(x[(y==1),0], x[(y==1),1], 'ro')\n    plt.plot(x[(y==-1),0], x[(y==-1),1], 'k^')\n    \n    # Construct a grid of points at which to evaluate the classifier\n    if converged:\n        grid_spacing = 0.05\n        xx1, xx2 = np.meshgrid(np.arange(x1min, x1max, grid_spacing), np.arange(x2min, x2max, grid_spacing)) # https://www.geeksforgeeks.org/numpy-meshgrid-function/\n        print (xx1.shape)\n        print (xx2.shape)\n        \n        grid = np.c_[xx1.ravel(), xx2.ravel()] #to flatten the grid arrays and create a matrix that has the same number of columns as training dataset\n        print (grid.shape)\n        \n        Z = np.array([evaluate_classifier(w,b,pt) for pt in grid])\n        # Show the classifier's boundary using a color plot\n        Z = Z.reshape(xx1.shape) #  reshaping the predicted class labels Z into a grid with the same dimensions as xx1 and xx2\n        print (Z.shape)\n        \n        plt.pcolormesh(xx1, xx2, Z, cmap=plt.cm.PRGn, vmin=-3, vmax=3)\n    plt.show()",
      "execution_count": 25,
      "outputs": []
    },
    {
      "metadata": {},
      "cell_type": "markdown",
      "source": "Let's run this on `data_1.txt`. Try running it a few times; you should get slightly different outcomes, because of the randomization in the learning procedure."
    },
    {
      "metadata": {
        "trusted": true
      },
      "cell_type": "code",
      "source": "run_perceptron('data_1.txt')",
      "execution_count": 26,
      "outputs": [
        {
          "output_type": "stream",
          "text": "Perceptron algorithm: iterations until convergence:  6\n(220, 220)\n(220, 220)\n(48400, 2)\n(220, 220)\n",
          "name": "stdout"
        },
        {
          "output_type": "display_data",
          "data": {
            "image/png": "[encoded data removed]",
            "text/plain": "<Figure size 432x288 with 1 Axes>"
          },
          "metadata": {
            "needs_background": "light"
          }
        }
      ]
    },
    {
      "metadata": {},
      "cell_type": "markdown",
      "source": "And now, let's try running it on `data_2.txt`. *What's going on here?*"
    },
    {
      "metadata": {
        "trusted": true
      },
      "cell_type": "code",
      "source": "run_perceptron('data_2.txt')",
      "execution_count": 6,
      "outputs": [
        {
          "output_type": "stream",
          "text": "Perceptron algorithm: did not converge within the specified number of iterations\n",
          "name": "stdout"
        },
        {
          "output_type": "display_data",
          "data": {
            "image/png": "[encoded data removed]",
            "text/plain": "<Figure size 432x288 with 1 Axes>"
          },
          "metadata": {
            "needs_background": "light"
          }
        }
      ]
    },
    {
      "metadata": {},
      "cell_type": "markdown",
      "source": "## Example 2 (Faster way):\nHere, we use a perceptron algorithm to classify the `iris dataset`. Here the number of labels is 3."
    },
    {
      "metadata": {
        "trusted": true
      },
      "cell_type": "code",
      "source": "# Load required libraries\nfrom sklearn import datasets\nfrom sklearn.preprocessing import StandardScaler\nfrom sklearn.linear_model import Perceptron\nfrom sklearn.model_selection import train_test_split\nfrom sklearn.metrics import accuracy_score\nimport numpy as np",
      "execution_count": 89,
      "outputs": []
    },
    {
      "metadata": {
        "trusted": true
      },
      "cell_type": "code",
      "source": "# Load the iris dataset\niris = datasets.load_iris()\n\n# Create our X and y data\nX = iris.data\ny = iris.target\n\n# View the first five observations of our x data\nprint (X[:5])\n# View the first five observations of our y data\nprint\nprint (y)",
      "execution_count": 92,
      "outputs": [
        {
          "output_type": "stream",
          "text": "[[5.1 3.5 1.4 0.2]\n [4.9 3.  1.4 0.2]\n [4.7 3.2 1.3 0.2]\n [4.6 3.1 1.5 0.2]\n [5.  3.6 1.4 0.2]]\n\n[0 0 0 0 0 0 0 0 0 0 0 0 0 0 0 0 0 0 0 0 0 0 0 0 0 0 0 0 0 0 0 0 0 0 0 0 0\n 0 0 0 0 0 0 0 0 0 0 0 0 0 1 1 1 1 1 1 1 1 1 1 1 1 1 1 1 1 1 1 1 1 1 1 1 1\n 1 1 1 1 1 1 1 1 1 1 1 1 1 1 1 1 1 1 1 1 1 1 1 1 1 1 2 2 2 2 2 2 2 2 2 2 2\n 2 2 2 2 2 2 2 2 2 2 2 2 2 2 2 2 2 2 2 2 2 2 2 2 2 2 2 2 2 2 2 2 2 2 2 2 2\n 2 2]\n",
          "name": "stdout"
        }
      ]
    },
    {
      "metadata": {
        "trusted": true
      },
      "cell_type": "code",
      "source": "# Split the data into 75% training data and 25% test data\nX_train, X_test, y_train, y_test = train_test_split(X, y, test_size=0.25)\n\n# Train A Perceptron Learner\n# Create a perceptron object with the parameters: 40 iterations (epochs) over the data, and a learning rate of 0.1\nppn = Perceptron(n_iter=40, eta0=0.1, random_state=0)\n\n# Train the perceptron\nppn.fit(X_train, y_train)\n\n# Apply The Trained Learner To Test Data\n# Apply the trained perceptron on the X data to make predicts for the y test data\ny_pred = ppn.predict(X_test)\n\n# View the accuracy of the model, which is: 1 - (observations predicted wrong / total observations)\nprint('Accuracy: %.3f' % accuracy_score(y_test, y_pred))\n\n# or just use\nppn.score(X_test, y_test)",
      "execution_count": 79,
      "outputs": [
        {
          "output_type": "stream",
          "text": "Accuracy: 0.763\n",
          "name": "stdout"
        },
        {
          "output_type": "stream",
          "text": "/home/nbuser/anaconda2_501/lib/python2.7/site-packages/sklearn/linear_model/stochastic_gradient.py:117: DeprecationWarning: n_iter parameter is deprecated in 0.19 and will be removed in 0.21. Use max_iter and tol instead.\n  DeprecationWarning)\n",
          "name": "stderr"
        },
        {
          "output_type": "execute_result",
          "execution_count": 79,
          "data": {
            "text/plain": "0.7631578947368421"
          },
          "metadata": {}
        }
      ]
    },
    {
      "metadata": {},
      "cell_type": "markdown",
      "source": "## Preprocessing the data to improve model accuracy"
    },
    {
      "metadata": {
        "trusted": true
      },
      "cell_type": "code",
      "source": "# Preprocess The X Data By Scaling\n# Train the scaler, which standarizes all the features to have mean = 0 and unit variance\nsc = StandardScaler()\nsc.fit(X_train)\n\n# Apply the scaler to the X training data\nX_train_std = sc.transform(X_train)\n\n# Apply the SAME scaler to the X test data\nX_test_std = sc.transform(X_test)",
      "execution_count": 80,
      "outputs": []
    },
    {
      "metadata": {
        "trusted": true
      },
      "cell_type": "code",
      "source": "# Train A Perceptron Learner\n# Create a perceptron object with the parameters: 40 iterations (epochs) over the data, and a learning rate of 0.1\nppn = Perceptron(n_iter=40, eta0=0.1, random_state=0)\n\n# Train the perceptron\nppn.fit(X_train_std, y_train)",
      "execution_count": 81,
      "outputs": [
        {
          "output_type": "stream",
          "text": "/home/nbuser/anaconda2_501/lib/python2.7/site-packages/sklearn/linear_model/stochastic_gradient.py:117: DeprecationWarning: n_iter parameter is deprecated in 0.19 and will be removed in 0.21. Use max_iter and tol instead.\n  DeprecationWarning)\n",
          "name": "stderr"
        },
        {
          "output_type": "execute_result",
          "execution_count": 81,
          "data": {
            "text/plain": "Perceptron(alpha=0.0001, class_weight=None, eta0=0.1, fit_intercept=True,\n      max_iter=None, n_iter=40, n_jobs=1, penalty=None, random_state=0,\n      shuffle=True, tol=None, verbose=0, warm_start=False)"
          },
          "metadata": {}
        }
      ]
    },
    {
      "metadata": {
        "trusted": true
      },
      "cell_type": "code",
      "source": "# Apply The Trained Learner To Test Data\n# Apply the trained perceptron on the X data to make predicts for the y test data\ny_pred2 = ppn.predict(X_test_std)\n\n# Compare The Predicted Y With The True Y\n# View the predicted y test data\nprint y_pred2\nprint \n# View the true y test data\nprint y_test",
      "execution_count": 82,
      "outputs": [
        {
          "output_type": "stream",
          "text": "[2 0 0 1 2 1 1 2 0 2 0 2 1 0 1 0 1 0 0 2 0 2 1 2 1 0 0 2 0 1 0 1 1 0 0 0 0\n 0]\n\n[2 0 0 2 2 1 1 2 0 2 0 2 1 0 1 0 1 0 0 2 0 2 1 2 1 0 1 2 0 1 0 1 1 0 0 0 0\n 0]\n",
          "name": "stdout"
        }
      ]
    },
    {
      "metadata": {
        "trusted": true
      },
      "cell_type": "code",
      "source": "# View the accuracy of the model, which is: 1 - (observations predicted wrong / total observations)\nprint('Accuracy: %.3f' % accuracy_score(y_test, y_pred2))\nprint('Accuracy before preprocessing: %.3f' % accuracy_score(y_test, y_pred))",
      "execution_count": 83,
      "outputs": [
        {
          "output_type": "stream",
          "text": "Accuracy: 0.947\nAccuracy before preprocessing: 0.763\n",
          "name": "stdout"
        }
      ]
    }
  ],
  "metadata": {
    "kernelspec": {
      "name": "python2",
      "display_name": "Python 2",
      "language": "python"
    },
    "language_info": {
      "mimetype": "text/x-python",
      "nbconvert_exporter": "python",
      "name": "python",
      "pygments_lexer": "ipython2",
      "version": "2.7.15",
      "file_extension": ".py",
      "codemirror_mode": {
        "version": 2,
        "name": "ipython"
      }
    },
    "toc": {
      "colors": {
        "hover_highlight": "#DAA520",
        "navigate_num": "#000000",
        "navigate_text": "#333333",
        "running_highlight": "#FF0000",
        "selected_highlight": "#FFD700",
        "sidebar_border": "#EEEEEE",
        "wrapper_background": "#FFFFFF"
      },
      "moveMenuLeft": true,
      "nav_menu": {
        "height": "12px",
        "width": "252px"
      },
      "navigate_menu": true,
      "number_sections": false,
      "sideBar": true,
      "threshold": 4,
      "toc_cell": false,
      "toc_section_display": "block",
      "toc_window_display": false,
      "widenNotebook": false
    }
  },
  "nbformat": 4,
  "nbformat_minor": 1
}