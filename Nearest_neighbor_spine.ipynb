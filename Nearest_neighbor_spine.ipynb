{
  "cells": [
    {
      "metadata": {},
      "cell_type": "markdown",
      "source": "# Nearest neighbor classifier 2"
    },
    {
      "metadata": {},
      "cell_type": "markdown",
      "source": "## The Spine Injury dataset\n\nThe data set contains information from **310** patients. For each patient, there are: six measurements (**x**) and a label (**y**). The label has **3** possible values, `'NO'` (normal), `'DH'` (herniated disk), or `'SL'` (spondilolysthesis). "
    },
    {
      "metadata": {
        "trusted": true
      },
      "cell_type": "code",
      "source": "import numpy as np",
      "execution_count": 19,
      "outputs": []
    },
    {
      "metadata": {},
      "cell_type": "markdown",
      "source": "We now load the dataset and divide the data into a training set of 248 patients and a test set of 62 patients. The following arrays are created:\n\n**`trainx`** : The training data's features | \n**`trainy`** : The training data's labels |\n**`testx`** : The test data's features |\n**`testy`** : The test data's labels "
    },
    {
      "metadata": {
        "trusted": true
      },
      "cell_type": "code",
      "source": "# Load data set and code labels as 0 = 'NO', 1 = 'DH', 2 = 'SL'\nlabels = [b'NO', b'DH', b'SL']\ndata = np.loadtxt('column_3C.dat', converters={6: lambda s: labels.index(s)} )\n\n# Separate the features from labels\nx = data[:,0:6]\ny = data[:,6]\n\n# Divide into training and test set\ntraining_indices = list(range(0,20)) + list(range(40,188)) + list(range(230,310))\ntest_indices = list(range(20,40)) + list(range(188,230))\n\ntrainx = x[training_indices,:]\ntrainy = y[training_indices]\ntestx = x[test_indices,:]\ntesty = y[test_indices]",
      "execution_count": 20,
      "outputs": []
    },
    {
      "metadata": {},
      "cell_type": "markdown",
      "source": "## Nearest neighbor classification ( 1-NN ) with L1 distance"
    },
    {
      "metadata": {
        "trusted": true
      },
      "cell_type": "code",
      "source": "def L1_dist(x,y):\n    return np.sum(abs(x-y))",
      "execution_count": 21,
      "outputs": []
    },
    {
      "metadata": {
        "trusted": true
      },
      "cell_type": "code",
      "source": "def NN_L1(a,b,c):\n    x1 = []\n    for i in range(len(c)):\n        distances = [L1_dist(c[i],a[j,]) for j in range(len(b))]\n        dist_min = np.argmin(distances)\n        x1.append(b[dist_min])\n    return np.array(x1) ",
      "execution_count": 22,
      "outputs": []
    },
    {
      "metadata": {
        "trusted": true
      },
      "cell_type": "code",
      "source": "testy_L1 = NN_L1(trainx, trainy, testx)",
      "execution_count": 23,
      "outputs": []
    },
    {
      "metadata": {},
      "cell_type": "markdown",
      "source": "## Nearest neighbor classification with L2 distance"
    },
    {
      "metadata": {
        "trusted": true
      },
      "cell_type": "code",
      "source": "def squared_dist(x,y):\n    return np.sum(np.square(x-y))",
      "execution_count": 24,
      "outputs": []
    },
    {
      "metadata": {
        "trusted": true
      },
      "cell_type": "code",
      "source": "def NN_L2(a,b,c,d):\n    x1 = []\n    for i in range(len(d)):\n        distances = [squared_dist(c[i],a[j,]) for j in range(len(b))]\n        dist_min = np.argmin(distances)\n        x1.append(b[dist_min])\n    return np.array(x1)   ",
      "execution_count": 25,
      "outputs": []
    },
    {
      "metadata": {
        "trusted": true
      },
      "cell_type": "code",
      "source": "testy_L2 = NN_L2(trainx, trainy, testx, testy)",
      "execution_count": 26,
      "outputs": []
    },
    {
      "metadata": {
        "collapsed": true
      },
      "cell_type": "markdown",
      "source": "## Test errors and the confusion matrix"
    },
    {
      "metadata": {},
      "cell_type": "markdown",
      "source": "Let's see if the L1 and L2 distance functions yield different error rates for nearest neighbor classification of the test data."
    },
    {
      "metadata": {
        "trusted": true
      },
      "cell_type": "code",
      "source": "def error_rate(testy, testy_fit):\n    return float(sum(testy!=testy_fit))/len(testy) \n\nprint(\"Error rate of NN_L1: \", round(error_rate(testy,testy_L1), 4) )\nprint(\"Error rate of NN_L2: \", round(error_rate(testy,testy_L2), 4) )",
      "execution_count": 27,
      "outputs": [
        {
          "output_type": "stream",
          "text": "Error rate of NN_L1:  0.2258\nError rate of NN_L2:  0.2097\n",
          "name": "stdout"
        }
      ]
    },
    {
      "metadata": {},
      "cell_type": "markdown",
      "source": "We will now look a bit more deeply into the specific types of errors made by nearest neighbor classification, by constructing the `confusion matrix`.\n\nSince there are three labels, the confusion matrix is a 3x3 matrix whose rows correspond to the true label and whose columns correspond to the predicted label. For example, the entry at row DH, column SL, contains the number of test points whose correct label was DH but which were classified as SL.\n\n<img style=\"width:200px\" src=\"confusion_matrix.png\">\n\n\n"
    },
    {
      "metadata": {
        "trusted": true
      },
      "cell_type": "code",
      "source": "# Test Function\nfrom sklearn.metrics import confusion_matrix\n\nL1_neo = confusion_matrix(testy, testy_L1) \nL2_neo = confusion_matrix(testy, testy_L2)  ",
      "execution_count": 29,
      "outputs": []
    },
    {
      "metadata": {
        "trusted": true
      },
      "cell_type": "code",
      "source": "import matplotlib.pyplot as plt\n\ndef plot_confusion_matrix(df_confusion, title='Confusion matrix', cmap=plt.cm.gray_r):\n    plt.matshow(df_confusion, cmap=cmap) # imshow\n    #plt.title(title)\n    plt.colorbar()   \n    plt.ylabel('Actual')\n    plt.xlabel('Predicted')\n\nprint(L1_neo)\nplot_confusion_matrix(L1_neo)\nplot_confusion_matrix(L2_neo)",
      "execution_count": 32,
      "outputs": [
        {
          "output_type": "stream",
          "text": "[[16  2  2]\n [10 10  0]\n [ 0  0 22]]\n",
          "name": "stdout"
        },
        {
          "output_type": "display_data",
          "data": {
            "image/png": "[encoded data removed]",
            "text/plain": "<Figure size 288x288 with 2 Axes>"
          },
          "metadata": {
            "needs_background": "light"
          }
        },
        {
          "output_type": "display_data",
          "data": {
            "image/png": "[encoded data removed]",
            "text/plain": "<Figure size 288x288 with 2 Axes>"
          },
          "metadata": {
            "needs_background": "light"
          }
        }
      ]
    },
    {
      "metadata": {
        "trusted": true
      },
      "cell_type": "code",
      "source": "print(L2_neo)",
      "execution_count": 31,
      "outputs": [
        {
          "output_type": "stream",
          "text": "[[17  1  2]\n [10 10  0]\n [ 0  0 22]]\n",
          "name": "stdout"
        }
      ]
    }
  ],
  "metadata": {
    "anaconda-cloud": {},
    "kernelspec": {
      "name": "python36",
      "display_name": "Python 3.6",
      "language": "python"
    },
    "language_info": {
      "mimetype": "text/x-python",
      "nbconvert_exporter": "python",
      "name": "python",
      "pygments_lexer": "ipython3",
      "version": "3.6.6",
      "file_extension": ".py",
      "codemirror_mode": {
        "version": 3,
        "name": "ipython"
      }
    },
    "toc": {
      "colors": {
        "hover_highlight": "#DAA520",
        "navigate_num": "#000000",
        "navigate_text": "#333333",
        "running_highlight": "#FF0000",
        "selected_highlight": "#FFD700",
        "sidebar_border": "#EEEEEE",
        "wrapper_background": "#FFFFFF"
      },
      "moveMenuLeft": true,
      "nav_menu": {
        "height": "102px",
        "width": "252px"
      },
      "navigate_menu": true,
      "number_sections": false,
      "sideBar": true,
      "threshold": 4,
      "toc_cell": false,
      "toc_position": {
        "height": "670px",
        "left": "0px",
        "right": "1145px",
        "top": "106px",
        "width": "212px"
      },
      "toc_section_display": "block",
      "toc_window_display": false,
      "widenNotebook": false
    }
  },
  "nbformat": 4,
  "nbformat_minor": 1
}