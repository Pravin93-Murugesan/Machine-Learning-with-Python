{
  "cells": [
    {
      "metadata": {},
      "cell_type": "markdown",
      "source": "# Nearest neighbor classifier"
    },
    {
      "metadata": {},
      "cell_type": "markdown",
      "source": "## The MNIST dataset\n\nIn this notebook we will be working with a subset of this data: a training set of 7,500 examples (of 60,000) and a test set of 1,000 examples (of 10,000)."
    },
    {
      "metadata": {
        "trusted": true
      },
      "cell_type": "code",
      "source": "%matplotlib inline\nimport numpy as np\nimport matplotlib.pyplot as plt \nimport time\n\n## Load the training set\ntrain_data = np.load('train_data.npy')\ntrain_labels = np.load('train_labels.npy')\n\n## Load the testing set\ntest_data = np.load('test_data.npy')\ntest_labels = np.load('test_labels.npy')",
      "execution_count": 22,
      "outputs": []
    },
    {
      "metadata": {
        "trusted": true
      },
      "cell_type": "code",
      "source": "## Print out their dimensions\nprint(\"Training dataset dimensions: \", np.shape(train_data))\nprint(\"Number of training labels: \", len(train_labels))\nprint(\"Testing dataset dimensions: \", np.shape(test_data))\nprint(\"Number of testing labels: \", len(test_labels))",
      "execution_count": 23,
      "outputs": [
        {
          "output_type": "stream",
          "text": "('Training dataset dimensions: ', (7500, 784))\n('Number of training labels: ', 7500)\n('Testing dataset dimensions: ', (1000, 784))\n('Number of testing labels: ', 1000)\n",
          "name": "stdout"
        }
      ]
    },
    {
      "metadata": {
        "trusted": true
      },
      "cell_type": "code",
      "source": "## Compute the number of examples of each digit\ntrain_digits, train_counts = np.unique(train_labels, return_counts=True)\nprint(\"Training set distribution:\")\nprint(dict(zip(train_digits, train_counts)))\n\ntest_digits, test_counts = np.unique(test_labels, return_counts=True)\nprint(\"Test set distribution:\")\nprint(dict(zip(test_digits, test_counts)))",
      "execution_count": 24,
      "outputs": [
        {
          "output_type": "stream",
          "text": "Training set distribution:\n{0: 750, 1: 750, 2: 750, 3: 750, 4: 750, 5: 750, 6: 750, 7: 750, 8: 750, 9: 750}\nTest set distribution:\n{0: 100, 1: 100, 2: 100, 3: 100, 4: 100, 5: 100, 6: 100, 7: 100, 8: 100, 9: 100}\n",
          "name": "stdout"
        }
      ]
    },
    {
      "metadata": {},
      "cell_type": "markdown",
      "source": "## Visualizing the data\nEach data point is stored as 784-dimensional vector. To visualize a data point, we first reshape it to a 28x28 image."
    },
    {
      "metadata": {
        "trusted": true
      },
      "cell_type": "code",
      "source": "## Define a function that displays a digit given its vector representation\ndef show_digit(x):\n    plt.axis('off')\n    plt.imshow(x.reshape((28,28)), cmap=plt.cm.gray)\n    plt.show()\n    return\n\n## Define a function that takes an index into a particular data set (\"train\" or \"test\") and displays that image.\ndef vis_image(index, dataset=\"train\"):\n    if(dataset==\"train\"): \n        show_digit(train_data[index]) # index,\n        label = train_labels[index]\n    else:\n        show_digit(test_data[index]) # index,\n        label = test_labels[index]\n    print(\"Label \" + str(label))\n    return\n\n## View a data point in the training set\nvis_image(5, \"train\")\n\n## View a data point in the test set\nvis_image(7, \"test\")",
      "execution_count": 25,
      "outputs": [
        {
          "output_type": "display_data",
          "data": {
            "image/png": "[encoded data removed]",
            "text/plain": "<Figure size 432x288 with 1 Axes>"
          },
          "metadata": {
            "needs_background": "light"
          }
        },
        {
          "output_type": "stream",
          "text": "Label 1\n",
          "name": "stdout"
        },
        {
          "output_type": "display_data",
          "data": {
            "image/png": "[encoded data removed]",
            "text/plain": "<Figure size 432x288 with 1 Axes>"
          },
          "metadata": {
            "needs_background": "light"
          }
        },
        {
          "output_type": "stream",
          "text": "Label 7\n",
          "name": "stdout"
        }
      ]
    },
    {
      "metadata": {
        "collapsed": true
      },
      "cell_type": "markdown",
      "source": "## Squared Euclidean distance\n\nTo compute nearest neighbors in our data set, we need to first be able to compute distances between data points. A natural distance function is _Euclidean distance_: for two vectors $x, y \\in \\mathbb{R}^d$, their Euclidean distance is defined as \n$$\\|x - y\\| = \\sqrt{\\sum_{i=1}^d (x_i - y_i)^2}.$$\nOften we omit the square root, and simply compute _squared Euclidean distance_:\n$$\\|x - y\\|^2 = \\sum_{i=1}^d (x_i - y_i)^2.$$"
    },
    {
      "metadata": {
        "trusted": true
      },
      "cell_type": "code",
      "source": "## Computes squared Euclidean distance between two vectors.\ndef squared_dist(x,y):\n    return np.sum(np.square(x-y))",
      "execution_count": 26,
      "outputs": []
    },
    {
      "metadata": {},
      "cell_type": "markdown",
      "source": "## Computing nearest neighbors\n\nNow that we have a distance function defined, we can now turn to nearest neighbor classification. "
    },
    {
      "metadata": {
        "trusted": true
      },
      "cell_type": "code",
      "source": "## Takes a vector x and returns the index of its nearest neighbor in train_data\ndef find_NN(x):\n    # Compute distances from x to every row in train_data\n    distances = [squared_dist(x,train_data[i,]) for i in range(len(train_labels))]\n    # Get the index of the smallest distance\n    return np.argmin(distances)\n\n## Takes a vector x and returns the class of its nearest neighbor in train_data\ndef NN_classifier(x):\n    # Get the index of the the nearest neighbor\n    index = find_NN(x)\n    # Return its class\n    return train_labels[index]",
      "execution_count": 27,
      "outputs": []
    },
    {
      "metadata": {
        "trusted": true
      },
      "cell_type": "code",
      "source": "## A success case:\nprint(\"A success case:\")\nprint(\"NN classification: \", NN_classifier(test_data[0,]))\nprint(\"True label: \", test_labels[0])\nprint(\"The test image:\")\nvis_image(0, \"test\")\nprint(\"The corresponding nearest neighbor image:\")\nvis_image(find_NN(test_data[0,]), \"train\")\nprint(\"The index of its nearest neighbor in the training set:\", find_NN(test_data[0,]))",
      "execution_count": 28,
      "outputs": [
        {
          "output_type": "stream",
          "text": "A success case:\n('NN classification: ', 0)\n('True label: ', 0)\nThe test image:\n",
          "name": "stdout"
        },
        {
          "output_type": "display_data",
          "data": {
            "image/png": "[encoded data removed]",
            "text/plain": "<Figure size 432x288 with 1 Axes>"
          },
          "metadata": {
            "needs_background": "light"
          }
        },
        {
          "output_type": "stream",
          "text": "Label 0\nThe corresponding nearest neighbor image:\n",
          "name": "stdout"
        },
        {
          "output_type": "display_data",
          "data": {
            "image/png": "[encoded data removed]",
            "text/plain": "<Figure size 432x288 with 1 Axes>"
          },
          "metadata": {
            "needs_background": "light"
          }
        },
        {
          "output_type": "stream",
          "text": "Label 0\n('The index of its nearest neighbor in the training set:', 6696)\n",
          "name": "stdout"
        }
      ]
    },
    {
      "metadata": {
        "trusted": true
      },
      "cell_type": "code",
      "source": "## A failure case:\nprint(\"A failure case:\")\nprint(\"NN classification: \", NN_classifier(test_data[39,]))\nprint(\"True label: \", test_labels[39])\nprint(\"The test image:\")\nvis_image(39, \"test\")\nprint(\"The corresponding nearest neighbor image:\")\nvis_image(find_NN(test_data[39,]), \"train\")\nprint(\"The index of its nearest neighbor in the training set:\", find_NN(test_data[39,]))",
      "execution_count": 29,
      "outputs": [
        {
          "output_type": "stream",
          "text": "A failure case:\n('NN classification: ', 2)\n('True label: ', 3)\nThe test image:\n",
          "name": "stdout"
        },
        {
          "output_type": "display_data",
          "data": {
            "image/png": "[encoded data removed]",
            "text/plain": "<Figure size 432x288 with 1 Axes>"
          },
          "metadata": {
            "needs_background": "light"
          }
        },
        {
          "output_type": "stream",
          "text": "Label 3\nThe corresponding nearest neighbor image:\n",
          "name": "stdout"
        },
        {
          "output_type": "display_data",
          "data": {
            "image/png": "[encoded data removed]",
            "text/plain": "<Figure size 432x288 with 1 Axes>"
          },
          "metadata": {
            "needs_background": "light"
          }
        },
        {
          "output_type": "stream",
          "text": "Label 2\n('The index of its nearest neighbor in the training set:', 4455)\n",
          "name": "stdout"
        }
      ]
    },
    {
      "metadata": {},
      "cell_type": "markdown",
      "source": "## Classifying all test data points\n\nNow the nearest neighbor classifier is run over the full data set.\n\nTo classify each test point, the code takes a full pass over each of the 7500 training examples."
    },
    {
      "metadata": {
        "trusted": true
      },
      "cell_type": "code",
      "source": "## Predict on each test data point (and time it!)\nt_before = time.time()\ntest_predictions = [NN_classifier(test_data[i,]) for i in range(len(test_labels))]\nt_after = time.time()\n\n## Compute the error\nerr_positions = np.not_equal(test_predictions, test_labels)\nerror = float(np.sum(err_positions))/len(test_labels)\n\nprint(\"Error of nearest neighbor classifier: \", error)\nprint(\"Classification time (seconds): \", t_after - t_before)",
      "execution_count": 30,
      "outputs": [
        {
          "output_type": "stream",
          "text": "('Error of nearest neighbor classifier: ', 0.046)\n('Classification time (seconds): ', 151.79819703102112)\n",
          "name": "stdout"
        }
      ]
    },
    {
      "metadata": {},
      "cell_type": "markdown",
      "source": "## Classifying all test data points (Using sklearn library)"
    },
    {
      "metadata": {
        "trusted": true
      },
      "cell_type": "code",
      "source": "from sklearn.neighbors import KNeighborsClassifier\nfrom sklearn.metrics import accuracy_score\nknn = KNeighborsClassifier(n_neighbors=3, p=2, metric='minkowski') # k = 3\n\nt_before = time.time()\nknn.fit(train_data, train_labels)\nt_after = time.time()\n\n## Compute training time\nt_training = t_after - t_before\nprint(\"Time to build model (seconds): \", t_training)\n\n## Get nearest neighbor predictions on testing data\nt_before = time.time()\ny_pred = knn.predict(test_data)\nt_after = time.time()\n\n## Compute testing time\nt_testing = t_after - t_before\nprint(\"Time to classify test set (seconds): \", t_testing)\n\n## Compute the accuracy\nprint('Accuracy: %.3f' % accuracy_score(test_labels, y_pred))",
      "execution_count": 34,
      "outputs": [
        {
          "output_type": "stream",
          "text": "('Time to build model (seconds): ', 1.598869800567627)\n('Time to classify test set (seconds): ', 32.31849217414856)\nAccuracy: 0.948\n",
          "name": "stdout"
        }
      ]
    },
    {
      "metadata": {},
      "cell_type": "markdown",
      "source": "## Faster method for nearest neighbor classification\n\nPerforming nearest neighbor classification in this way requires a full pass through the training set in order to classify a single point. This is a brute-force approach. When the volume of data is huge or its dimension is large, this repeated distance calculation can be very tedious and time consuming. To fasten up this process and to avoid measuring distances from all the points in the data set, some prepossessing of training data helps to search points (from training data) which are likely to be in the neighborhood (of the test data point).\n\n`scikit-learn` has a useful nearest neighbor data structure - Ball Tree. \n\nA Ball Tree data structure attempts to partition the training data in such a way that only a portion of the training data has to be searched. It partitions data into balls (or hyperspheres). Then, it splits the data contained inside the ball and place 2 more balls. It keeps partitioning until there are only balls that contains a specified amount of points. "
    },
    {
      "metadata": {
        "trusted": true
      },
      "cell_type": "code",
      "source": "from sklearn.neighbors import BallTree\n\n## Build nearest neighbor structure on training data\nt_before = time.time()\nball_tree = BallTree(train_data)\nt_after = time.time()\n\n## Compute training time\nt_training = t_after - t_before\nprint(\"Time to build data structure (seconds): \", t_training)\n\n## Get nearest neighbor predictions on testing data\nt_before = time.time()\ntest_neighbors = np.squeeze(ball_tree.query(test_data, k=1, return_distance=False))\nball_tree_predictions = train_labels[test_neighbors]\nt_after = time.time()\n\n## Compute testing time\nt_testing = t_after - t_before\nprint(\"Time to classify test set (seconds): \", t_testing)\n\n## Verify that the predictions are the same\nprint(\"Ball tree produces same predictions as above? \", np.array_equal(test_predictions, ball_tree_predictions))\n\n## Compute the error\nerr_positions = np.not_equal(ball_tree_predictions, test_labels)\nerror = float(np.sum(err_positions))/len(test_labels)\nprint(\"Error of nearest neighbor classifier: \", error)",
      "execution_count": 31,
      "outputs": [
        {
          "output_type": "stream",
          "text": "('Time to build data structure (seconds): ', 1.9650688171386719)\n('Time to classify test set (seconds): ', 24.9091739654541)\n('Ball tree produces same predictions as above? ', True)\n('Error of nearest neighbor classifier: ', 0.046)\n",
          "name": "stdout"
        }
      ]
    }
  ],
  "metadata": {
    "anaconda-cloud": {},
    "kernelspec": {
      "name": "python2",
      "display_name": "Python 2",
      "language": "python"
    },
    "language_info": {
      "mimetype": "text/x-python",
      "nbconvert_exporter": "python",
      "name": "python",
      "pygments_lexer": "ipython2",
      "version": "2.7.15",
      "file_extension": ".py",
      "codemirror_mode": {
        "version": 2,
        "name": "ipython"
      }
    },
    "toc": {
      "colors": {
        "hover_highlight": "#DAA520",
        "navigate_num": "#000000",
        "navigate_text": "#333333",
        "running_highlight": "#FF0000",
        "selected_highlight": "#FFD700",
        "sidebar_border": "#EEEEEE",
        "wrapper_background": "#FFFFFF"
      },
      "moveMenuLeft": true,
      "nav_menu": {
        "height": "153px",
        "width": "252px"
      },
      "navigate_menu": true,
      "number_sections": false,
      "sideBar": true,
      "threshold": 4,
      "toc_cell": false,
      "toc_section_display": "block",
      "toc_window_display": false,
      "widenNotebook": false
    }
  },
  "nbformat": 4,
  "nbformat_minor": 1
}